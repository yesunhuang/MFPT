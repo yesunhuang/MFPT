{
 "cells": [
  {
   "cell_type": "markdown",
   "metadata": {},
   "source": [
    "# Frequency Conversion-Indicators"
   ]
  },
  {
   "cell_type": "markdown",
   "metadata": {},
   "source": [
    "$$\n",
    "\\hat{H}=\\hbar\\left[g(\\hat{a}^\\dagger\\hat{b}\\hat{c}^\\dagger+\\hat{a}\\hat{b}^\\dagger\\hat{c})+E_a(\\hat{a}+\\hat{a}^\\dagger)+E_b(\\hat{b}+\\hat{b}^\\dagger)\\right]\n",
    "$$\n",
    "where the decay rate is $\\kappa_a,\\kappa_b,\\kappa_c$"
   ]
  },
  {
   "cell_type": "markdown",
   "metadata": {},
   "source": [
    "$$\n",
    "\\frac{d\\langle A_i\\rangle}{dt}=\\langle\\frac{i}{\\hbar}[H,A_i]\\rangle+\\Sigma_n\\langle\\frac{\\kappa_{n}}{2}[2O_n^{\\dagger}A_iO_n- O_n^{\\dagger}O_nA_i-A_iO_n^{\\dagger}O_n]\\rangle\n",
    "$$"
   ]
  },
  {
   "cell_type": "markdown",
   "metadata": {},
   "source": [
    "Ignoring the coupling for mode A, we get\n",
    "$$\n",
    "\\frac{d\\langle\\hat{a}\\rangle}{dt}=-iE_a-\\frac{\\kappa_a}{2}\\langle\\hat{a}\\rangle\n",
    "$$"
   ]
  },
  {
   "cell_type": "markdown",
   "metadata": {},
   "source": [
    "Thus $\\langle\\hat{a}\\rangle=-\\frac{2iE_a}{\\kappa_a}$"
   ]
  },
  {
   "cell_type": "markdown",
   "metadata": {},
   "source": [
    "Apply the approximation, we get\n",
    "$$\n",
    "\\hat{H}_{approx}=\\hat{H}=\\hbar\\left[G^*\\hat{b}\\hat{c}^\\dagger+G\\hat{b}^\\dagger\\hat{c}+E_b(\\hat{b}+\\hat{b}^\\dagger)\\right]\n",
    "$$\n",
    "where $G=-\\frac{2igE_a}{\\kappa_a}$"
   ]
  },
  {
   "cell_type": "markdown",
   "metadata": {},
   "source": [
    "## Initial Environment"
   ]
  },
  {
   "cell_type": "code",
   "execution_count": 1,
   "metadata": {},
   "outputs": [],
   "source": [
    "#import all the things we need\n",
    "%matplotlib inline\n",
    "from qutip import*\n",
    "\n",
    "from scipy import *\n",
    "\n",
    "import QCLSolver.data as Data\n",
    "import QCLSolver.solver as Solver\n",
    "\n",
    "import numpy as np\n",
    "\n",
    "import matplotlib.pyplot as plt\n",
    "\n",
    "import time"
   ]
  },
  {
   "cell_type": "code",
   "execution_count": 2,
   "metadata": {},
   "outputs": [],
   "source": [
    "plt.rcParams.update({'font.size': 12})"
   ]
  },
  {
   "cell_type": "code",
   "execution_count": 3,
   "metadata": {},
   "outputs": [],
   "source": [
    "#helper function\n",
    "def BuildOperator_Exact(Ea:float,Eb:float,g:float):\n",
    "    Na=40; Nc=4;Nb=6\n",
    "    psi0=tensor(basis(Na,psi0_l[0]),basis(Nb,psi0_l[1]),basis(Nc,psi0_l[2]))\n",
    "    a=tensor(destroy(Na),qeye(Nb),qeye(Nc))\n",
    "    b=tensor(qeye(Na),destroy(Nb),qeye(Nc))\n",
    "    c=tensor(qeye(Na),qeye(Nb),destroy(Nc))\n",
    "    H=g*(a.dag()*b*c.dag()+a*b.dag()*c)+Ea*(a.dag()+a)+Eb*(b.dag()+b)\n",
    "    c_ops=[]\n",
    "    c_ops.append(np.sqrt(kappa_a)*a)\n",
    "    c_ops.append(np.sqrt(kappa_b)*b)\n",
    "    c_ops.append(np.sqrt(kappa_c)*c)\n",
    "    operator={'Hamilton':H,'Collapse':c_ops,'Initial_state':psi0,'track':[b,c,a]}\n",
    "    return operator"
   ]
  },
  {
   "cell_type": "code",
   "execution_count": 4,
   "metadata": {},
   "outputs": [],
   "source": [
    "def CalIndicator_a(Ea:float,g:float):\n",
    "    numerator=(Eb**2)*(kappa_a**3)*kappa_c/(16.0*Ea**4)\n",
    "    denominator=g**2+\\\n",
    "                (kappa_b**2)*(kappa_c**2)*(kappa_a**4)/(256.0*(Ea**4)*(g**2))+\\\n",
    "                kappa_b*kappa_c*(kappa_a**2)/(8.0*Ea**2)\n",
    "    return numerator/denominator"
   ]
  },
  {
   "cell_type": "code",
   "execution_count": 5,
   "metadata": {},
   "outputs": [],
   "source": [
    "def CalIndicator_b_c_S(alpha:complex,g:float):\n",
    "    numerator=2*g**2\n",
    "    denominator=(1-alpha*alpha*g*g)*(4-g*g*alpha*alpha)\n",
    "    return numerator/denominator"
   ]
  },
  {
   "cell_type": "code",
   "execution_count": 6,
   "metadata": {},
   "outputs": [],
   "source": [
    "def Cal_b(Eb:float,G:complex):\n",
    "    numerator=-1j*Eb\n",
    "    denominator=kappa_b/2+2*G*np.conj(G)/kappa_c\n",
    "    return numerator/denominator"
   ]
  },
  {
   "cell_type": "code",
   "execution_count": 7,
   "metadata": {},
   "outputs": [],
   "source": [
    "def Cal_c(Eb:float,G:complex):\n",
    "    numerator=-2*np.conj(G)*Eb\n",
    "    denominator=kappa_b*kappa_c/2+2*G*np.conj(G)\n",
    "    return numerator/denominator"
   ]
  },
  {
   "cell_type": "code",
   "execution_count": 8,
   "metadata": {},
   "outputs": [],
   "source": [
    "def Cal_a_1(Eb:float,g:complex,Ea:float):\n",
    "    G=CalG(Ea,g,2)\n",
    "    a=G/g\n",
    "    b=Cal_b(Eb,G)\n",
    "    c=Cal_c(Eb,G)\n",
    "    numerator=-2j*g*b*np.conj(c)\n",
    "    return numerator/kappa_a"
   ]
  },
  {
   "cell_type": "code",
   "execution_count": 9,
   "metadata": {},
   "outputs": [],
   "source": [
    "def Cal_ac_1(Eb:float,g:float,Ea:float):\n",
    "    G=CalG(Ea,g,kappa_a)\n",
    "    a=G/g\n",
    "    b=Cal_b(Eb,G)\n",
    "    c=Cal_c(Eb,G)\n",
    "    numerator=-4*g*np.conj(a)*Eb*Cal_a_1(Eb,g,Ea)\\\n",
    "              -4*g*g*np.conj(a)*b*b*np.conj(c)\\\n",
    "              -2j*g*(kappa_a+kappa_b)*b*(c*np.conj(c)+1)\n",
    "    denominator=(kappa_a+kappa_c)*(kappa_a+kappa_b)+4*g*g*np.conj(a)*a\n",
    "    return numerator/denominator"
   ]
  },
  {
   "cell_type": "code",
   "execution_count": 10,
   "metadata": {},
   "outputs": [],
   "source": [
    "def Cal_adb_1(Eb:float,g:float,Ea:float):\n",
    "    G=CalG(Ea,g,kappa_a)\n",
    "    a=G/g\n",
    "    b=Cal_b(Eb,G)\n",
    "    c=Cal_c(Eb,G)\n",
    "    numerator=-2j*Eb*(kappa_a+kappa_c)*np.conj(Cal_a_1(Eb,g,Ea))\\\n",
    "              +2j*g*(kappa_a+kappa_c)*np.conj(b)*b*c\\\n",
    "              +4*g*g*a*np.conj(b)*c*c\n",
    "    denominator=(kappa_a+kappa_c)*(kappa_a+kappa_b)+4*g*g*np.conj(a)*a\n",
    "    return numerator/denominator"
   ]
  },
  {
   "cell_type": "code",
   "execution_count": 11,
   "metadata": {},
   "outputs": [],
   "source": [
    "def CalIndicator_b_AS(Eb:float,g:float,Ea:float):\n",
    "    G=CalG(Ea,g,kappa_a)\n",
    "    a=G/g\n",
    "    numerator=1j*(kappa_c/2)*g*Cal_ac_1(Eb,g,Ea)\\\n",
    "              +a*g*g*Cal_adb_1(Eb,g,Ea)\n",
    "    denominator=0.5j*Eb*kappa_c\n",
    "    return np.abs(numerator/(denominator))"
   ]
  },
  {
   "cell_type": "code",
   "execution_count": 12,
   "metadata": {},
   "outputs": [],
   "source": [
    "cor1=\"#37C2B8\" \n",
    "cor2=\"#BE5841\"\n",
    "cor3='purple'\n",
    "cor4='green'"
   ]
  },
  {
   "cell_type": "markdown",
   "metadata": {},
   "source": [
    "## Asymmetry"
   ]
  },
  {
   "cell_type": "markdown",
   "metadata": {},
   "source": [
    "### Various $E_a$ constant G"
   ]
  },
  {
   "cell_type": "code",
   "execution_count": 13,
   "metadata": {},
   "outputs": [],
   "source": [
    "##parameters\n",
    "kappa_a=2\n",
    "kappa_b=2\n",
    "kappa_c=2\n",
    "psi0_l=[0,0,0]\n",
    "Ea=np.linspace(0.1,6,40);Eb=0.1; G=-1j\n",
    "tlist=np.linspace(0,20,2000)"
   ]
  },
  {
   "cell_type": "code",
   "execution_count": 14,
   "metadata": {},
   "outputs": [
    {
     "name": "stdout",
     "output_type": "stream",
     "text": [
      "1.0\n"
     ]
    }
   ],
   "source": [
    "def Calg(E:float,G:complex,kappa:float):\n",
    "    g=kappa*G/(-2j*E)\n",
    "    return np.real(g)\n",
    "g=Calg(1,G,kappa_a)\n",
    "print(g)"
   ]
  },
  {
   "cell_type": "code",
   "execution_count": 15,
   "metadata": {},
   "outputs": [],
   "source": [
    "sol_dsh=np.zeros([np.size(Ea)],dtype=complex)\n",
    "sol_csh=np.zeros([np.size(Ea)],dtype=complex)"
   ]
  },
  {
   "cell_type": "code",
   "execution_count": 16,
   "metadata": {},
   "outputs": [],
   "source": [
    "data_csh=Data.Data([['AbC',g],['aBc',g],['A',1],['a',1],['B',Eb],['b',Eb]],\\\n",
    "               [['a',kappa_a],['b',kappa_b],['c',kappa_c]],['a'], 1)"
   ]
  },
  {
   "cell_type": "code",
   "execution_count": 17,
   "metadata": {},
   "outputs": [],
   "source": [
    "data_com=Data.Data([['AbC',g],['aBc',g],['A',1],['a',1],['B',0.1],['b',0.1]],\\\n",
    "                  [['a',kappa_a],['b',kappa_b],['c',kappa_c]],['a'], 4)\n",
    "sol_com=np.zeros([np.size(Ea)],dtype=complex)"
   ]
  },
  {
   "cell_type": "code",
   "execution_count": 18,
   "metadata": {},
   "outputs": [],
   "source": [
    "sol_indicator=np.zeros([np.size(Ea)],dtype=complex)"
   ]
  },
  {
   "cell_type": "code",
   "execution_count": 19,
   "metadata": {},
   "outputs": [
    {
     "name": "stdout",
     "output_type": "stream",
     "text": [
      "Time cost:384.0686094760895s\n"
     ]
    }
   ],
   "source": [
    "ts=time.time()\n",
    "for j in range(0,np.size(Ea)):\n",
    "        g=Calg(Ea[j],G,kappa_a)\n",
    "        data_com.SetCoefHOList([g,g,Ea[j],Ea[j],Eb,Eb])\n",
    "        data_csh.SetCoefHOList([g,g,Ea[j],Ea[j],Eb,Eb])\n",
    "        output_com=Solver.Solve(data_com,psi0_l,(0,tlist[-1]),t_eval=tlist,rtol=1e-10,atol=1e-12)\n",
    "        output_csh=Solver.Solve(data_csh,psi0_l,(0,tlist[-1]),t_eval=tlist,rtol=1e-10,atol=1e-12)\n",
    "        sol_dsh[j]=G/g\n",
    "        sol_csh[j]=output_csh.y[0][-1]\n",
    "        sol_com[j]=output_com.y[0][-1]\n",
    "        sol_indicator[j]=CalIndicator_a(Ea[j],g)\n",
    "te=time.time()\n",
    "print('Time cost:'+str(te-ts)+'s')\n",
    "sol_re_dsh=np.abs((sol_com-sol_dsh)/sol_dsh)\n",
    "sol_re_csh=np.abs((sol_com-sol_csh)/sol_csh)"
   ]
  },
  {
   "cell_type": "code",
   "execution_count": 20,
   "metadata": {},
   "outputs": [
    {
     "data": {
      "image/png": "[encoded data removed]",
      "text/plain": [
       "<Figure size 216x216 with 1 Axes>"
      ]
     },
     "metadata": {
      "needs_background": "light"
     },
     "output_type": "display_data"
    }
   ],
   "source": [
    "fig, axes = plt.subplots(1,1 , figsize=(3,3))\n",
    "\n",
    "axes.set_xlabel(r'$E_a$');\n",
    "axes.scatter(Ea,sol_re_dsh,c=cor2,s=64,marker = '+',label=r'$\\Delta\\langle a\\rangle_{\\mathrm{AS}}^{\\mathrm{(QCE)}}$')\n",
    "axes.scatter(Ea,sol_re_csh,c=cor1,s=64,marker = '*',label=r'$\\Delta\\langle a\\rangle_{\\mathrm{S}}^{\\mathrm{(QCE)}}$')\n",
    "axes.semilogy(Ea,np.real(sol_indicator),c=cor2,linestyle='-',label=r'$\\mathscr{I}\\,[a]_{1,\\mathrm{AS}}$')\n",
    "axes.scatter(Ea,np.abs(sol_re_dsh-np.real(sol_indicator)),linestyle='-',c=cor3,s=64,marker = '.',\\\n",
    "             label=r'$\\mathscr{E}[a]^{\\mathrm{(QCE)}}_{1,\\mathrm{AS}}$')\n",
    "axes.scatter(0.1,0.0032402336919848396,c=cor4,s=128,marker = 'x',label=r'$\\Delta\\langle a\\rangle_{\\mathrm{AS}}^{\\mathrm{(FST)}}$')\n",
    "axes.scatter(0.8,0.0018693903808554568,c=cor4,s=128,marker = 'x')\n",
    "axes.scatter(1,0.0014401181650716133,c=cor4,s=128,marker = 'x')\n",
    "\n",
    "axes.legend(bbox_to_anchor=(1.0, 0.85),ncol=1,loc=0,frameon=True); \n",
    "\n",
    "axes.set_ylabel(r'Relative Error of $\\langle a\\rangle$')   "
   ]
  },
  {
   "cell_type": "markdown",
   "metadata": {},
   "source": [
    "### Various g constant $E_a$"
   ]
  },
  {
   "cell_type": "code",
   "execution_count": 38,
   "metadata": {},
   "outputs": [],
   "source": [
    "##parameters\n",
    "kappa_a=2\n",
    "kappa_b=2\n",
    "kappa_c=2\n",
    "psi0_l=[0,0,0]\n",
    "g=np.linspace(0.1,1,30);Eb=0.1; Ea=2\n",
    "tlist=np.linspace(0,10,1000)"
   ]
  },
  {
   "cell_type": "code",
   "execution_count": 39,
   "metadata": {},
   "outputs": [],
   "source": [
    "def CalG(E:float,g:complex,kappa:float):\n",
    "    G=-2.0j*E*g/kappa\n",
    "    return G"
   ]
  },
  {
   "cell_type": "code",
   "execution_count": 40,
   "metadata": {},
   "outputs": [],
   "source": [
    "sol_dsh=np.zeros([np.size(g)],dtype=complex)\n",
    "sol_csh=np.zeros([np.size(g)],dtype=complex)"
   ]
  },
  {
   "cell_type": "code",
   "execution_count": 41,
   "metadata": {},
   "outputs": [],
   "source": [
    "data_csh=Data.Data([['AbC',1],['aBc',1],['A',1],['a',1],['B',Eb],['b',Eb]],\\\n",
    "               [['a',kappa_a],['b',kappa_b],['c',kappa_c]],['a'], 1)"
   ]
  },
  {
   "cell_type": "code",
   "execution_count": 42,
   "metadata": {},
   "outputs": [],
   "source": [
    "data_com=Data.Data([['AbC',1],['aBc',1],['A',Ea],['a',Ea],['B',0.1],['b',0.1]],\\\n",
    "                  [['a',kappa_a],['b',kappa_b],['c',kappa_c]],['a'], 4)\n",
    "sol_com=np.zeros([np.size(g)],dtype=complex)"
   ]
  },
  {
   "cell_type": "code",
   "execution_count": 43,
   "metadata": {},
   "outputs": [],
   "source": [
    "sol_indicator=np.zeros([np.size(g)],dtype=complex)"
   ]
  },
  {
   "cell_type": "code",
   "execution_count": 44,
   "metadata": {},
   "outputs": [
    {
     "name": "stdout",
     "output_type": "stream",
     "text": [
      "Time cost:237.30586647987366s\n"
     ]
    }
   ],
   "source": [
    "ts=time.time()\n",
    "for j in range(0,np.size(g)):\n",
    "    G=CalG(Ea,g[j],kappa_a)\n",
    "    data_com.SetCoefHOList([g[j],g[j],Ea,Ea,Eb,Eb])\n",
    "    data_csh.SetCoefHOList([g[j],g[j],Ea,Ea,Eb,Eb])\n",
    "    output_com=Solver.Solve(data_com,psi0_l,(0,tlist[-1]),t_eval=tlist,rtol=1e-10,atol=1e-12)\n",
    "    output_csh=Solver.Solve(data_csh,psi0_l,(0,tlist[-1]),t_eval=tlist,rtol=1e-10,atol=1e-12)\n",
    "    sol_dsh[j]=G/g[j]\n",
    "    sol_csh[j]=output_csh.y[0][-1]\n",
    "    sol_com[j]=output_com.y[0][-1]\n",
    "    sol_indicator[j]=CalIndicator_a(Ea,g[j])\n",
    "te=time.time()\n",
    "print('Time cost:'+str(te-ts)+'s')"
   ]
  },
  {
   "cell_type": "code",
   "execution_count": 45,
   "metadata": {},
   "outputs": [],
   "source": [
    "sol_re_dsh=np.abs((sol_com-sol_dsh)/sol_dsh)\n",
    "sol_re_csh=np.abs((sol_com-sol_csh)/sol_csh)\n",
    "RESID=np.real(sol_indicator)-sol_re_dsh"
   ]
  },
  {
   "cell_type": "code",
   "execution_count": 49,
   "metadata": {},
   "outputs": [
    {
     "data": {
      "image/png": "[encoded data removed]",
      "text/plain": [
       "<Figure size 216x216 with 1 Axes>"
      ]
     },
     "metadata": {
      "needs_background": "light"
     },
     "output_type": "display_data"
    }
   ],
   "source": [
    "fig, axes = plt.subplots(1,1 , figsize=(3,3))\n",
    "\n",
    "axes.set_xlabel(r'$g$');\n",
    "axes.plot(g,np.real(sol_indicator)*1e4,c=cor2,linestyle='-',label=r'$\\mathscr{I}\\,[a]_{1,\\mathrm{AS}}$')\n",
    "axes.scatter(g,sol_re_dsh*1e4,c=cor2,s=64,marker = '+',label=r'$\\Delta\\langle a\\rangle_{\\mathrm{AS}}^{\\mathrm{(QCE)}}$')\n",
    "axes.scatter(g,RESID*1e4,linestyle='-',c='purple',s=64,marker = '.',label=r'$\\mathscr{E}[a]^{\\mathrm{(QCE)}}_{1,\\mathrm{AS}}$')\n",
    "axes.scatter(g,sol_re_csh*1e4,c=cor1,s=64,marker = '*',label=r'$\\Delta\\langle a\\rangle_{\\mathrm{S}}^{\\mathrm{(QCE)}}$')\n",
    "axes.yaxis.set_ticks_position('right') \n",
    "axes.yaxis.set_label_position(\"right\")\n",
    "\n",
    "axes.set_ylabel(r'Relative Error of $\\langle a\\rangle\\,(10^{-4})$')   "
   ]
  },
  {
   "cell_type": "markdown",
   "metadata": {},
   "source": [
    "## Symmetry"
   ]
  },
  {
   "cell_type": "markdown",
   "metadata": {},
   "source": [
    "### Various $E_a$ constant g"
   ]
  },
  {
   "cell_type": "code",
   "execution_count": 13,
   "metadata": {},
   "outputs": [],
   "source": [
    "##parameters\n",
    "kappa_a=2\n",
    "kappa_b=2\n",
    "kappa_c=2\n",
    "psi0_l=[0,0,0]\n",
    "Ea=np.linspace(2,12,20);Eb=0.1; g=1\n",
    "tlist=np.linspace(0,20,2000)"
   ]
  },
  {
   "cell_type": "code",
   "execution_count": 14,
   "metadata": {},
   "outputs": [],
   "source": [
    "def CalG(E:float,g:complex,kappa:float):\n",
    "    G=-2.0j*E*g/kappa\n",
    "    return G"
   ]
  },
  {
   "cell_type": "code",
   "execution_count": 15,
   "metadata": {},
   "outputs": [],
   "source": [
    "G=CalG(1,g,kappa_a)\n",
    "G_c=np.conj(G).item()"
   ]
  },
  {
   "cell_type": "code",
   "execution_count": 16,
   "metadata": {},
   "outputs": [],
   "source": [
    "data_dsh=Data.Data([['bC',G_c],['Bc',G],['B',0.1],['b',0.1]],\\\n",
    "               [['b',kappa_b],['c',kappa_c]],['b'], 2)\n",
    "sol_dsh=np.zeros([np.size(Ea)],dtype=complex)"
   ]
  },
  {
   "cell_type": "code",
   "execution_count": 17,
   "metadata": {},
   "outputs": [],
   "source": [
    "data_csh=Data.Data([['AbC',g],['aBc',g],['A',1],['a',1],['B',0.1],['b',0.1]],\\\n",
    "               [['a',kappa_a],['b',kappa_b],['c',kappa_c]],['b','a'], 1)\n",
    "sol_csh=np.zeros([np.size(Ea)],dtype=complex)"
   ]
  },
  {
   "cell_type": "code",
   "execution_count": 18,
   "metadata": {},
   "outputs": [],
   "source": [
    "data_com=Data.Data([['AbC',g],['aBc',g],['A',1],['a',1],['B',0.1],['b',0.1]],\\\n",
    "                  [['a',kappa_a],['b',kappa_b],['c',kappa_c]],['b'], 4)\n",
    "sol_com=np.zeros([np.size(Ea)],dtype=complex)"
   ]
  },
  {
   "cell_type": "code",
   "execution_count": 19,
   "metadata": {},
   "outputs": [],
   "source": [
    "sol_indicator_csh=np.zeros([np.size(Ea)],dtype=complex)\n",
    "sol_indicator_dsh=np.zeros([np.size(Ea)],dtype=complex)"
   ]
  },
  {
   "cell_type": "code",
   "execution_count": 20,
   "metadata": {},
   "outputs": [
    {
     "name": "stdout",
     "output_type": "stream",
     "text": [
      "Time cost:640.2859261035919s\n"
     ]
    }
   ],
   "source": [
    "ts=time.time()\n",
    "for j in range(0,np.size(Ea)):\n",
    "    G=CalG(Ea[j],g,kappa_a)\n",
    "    G_c=np.conj(G).item()\n",
    "    data_csh.SetCoefHOList([g,g,Ea[j],Ea[j],Eb,Eb])\n",
    "    data_com.SetCoefHOList([g,g,Ea[j],Ea[j],Eb,Eb])\n",
    "    output_csh=Solver.Solve(data_csh,psi0_l,(0,tlist[-1]),t_eval=tlist,rtol=1e-10,atol=1e-12)\n",
    "    output_com=Solver.Solve(data_com,psi0_l,(0,tlist[-1]),t_eval=tlist,rtol=1e-10,atol=1e-12)\n",
    "    sol_dsh[j]=Cal_b(Eb,G)\n",
    "    sol_csh[j]=output_csh.y[0][-1]\n",
    "    sol_com[j]=output_com.y[0][-1]\n",
    "    sol_indicator_csh[j]=CalIndicator_b_c_S(output_csh.y[1][-1],g)\n",
    "    sol_indicator_dsh[j]=CalIndicator_b_AS(Eb,g,Ea[j])\n",
    "te=time.time()\n",
    "print('Time cost:'+str(te-ts)+'s')"
   ]
  },
  {
   "cell_type": "code",
   "execution_count": 21,
   "metadata": {},
   "outputs": [],
   "source": [
    "sol_re_csh=np.abs((sol_com-sol_csh)/sol_csh)\n",
    "sol_re_dsh=np.abs((sol_com-sol_dsh)/sol_dsh)"
   ]
  },
  {
   "cell_type": "code",
   "execution_count": 22,
   "metadata": {},
   "outputs": [
    {
     "data": {
      "image/png": "[encoded data removed]",
      "text/plain": [
       "<Figure size 216x216 with 1 Axes>"
      ]
     },
     "metadata": {
      "needs_background": "light"
     },
     "output_type": "display_data"
    }
   ],
   "source": [
    "fig, axes = plt.subplots(1,1 , figsize=(3,3))\n",
    "\n",
    "axes.set_xlabel(r'$E_a$');\n",
    "axes.semilogy(Ea,np.real(sol_indicator_csh),c=cor1,linestyle='-',label=r'$\\mathscr{I}\\,[b]_{2,\\mathrm{S}}$')\n",
    "axes.semilogy(Ea,np.real(sol_indicator_dsh),c=cor2,linestyle='-',label=r'$\\mathscr{I}\\,[b]_{2,\\mathrm{AS}}$')\n",
    "axes.scatter(Ea,sol_re_csh,c=cor1,s=64,marker = '*',label=r'$\\Delta\\langle b\\rangle_{\\mathrm{S}}^{\\mathrm{(QCE)}}$')\n",
    "axes.scatter(Ea,sol_re_dsh,c=cor2,s=64,marker = '+',label=r'$\\Delta\\langle b\\rangle_{\\mathrm{AS}}^{\\mathrm{(QCE)}}$')\n",
    "\n",
    "axes.set_ylabel(r'Relative Error of $\\langle b\\rangle$')   "
   ]
  },
  {
   "cell_type": "markdown",
   "metadata": {},
   "source": [
    "### Various g constant"
   ]
  },
  {
   "cell_type": "code",
   "execution_count": 23,
   "metadata": {},
   "outputs": [],
   "source": [
    "##parameters\n",
    "kappa_a=2\n",
    "kappa_b=2\n",
    "kappa_c=2\n",
    "psi0_l=[0,0,0]\n",
    "g=np.linspace(0.1,1,30);Eb=0.1; Ea=4\n",
    "tlist=np.linspace(0,20,2000)"
   ]
  },
  {
   "cell_type": "code",
   "execution_count": 24,
   "metadata": {},
   "outputs": [],
   "source": [
    "def CalG(E:float,g:complex,kappa:float):\n",
    "    G=-2.0j*E*g/kappa\n",
    "    return G"
   ]
  },
  {
   "cell_type": "code",
   "execution_count": 25,
   "metadata": {},
   "outputs": [],
   "source": [
    "G=CalG(1,1,kappa_a)\n",
    "G_c=np.conj(G).item()"
   ]
  },
  {
   "cell_type": "code",
   "execution_count": 26,
   "metadata": {},
   "outputs": [],
   "source": [
    "data_dsh=Data.Data([['bC',G_c],['Bc',G],['B',0.1],['b',0.1]],\\\n",
    "               [['b',kappa_b],['c',kappa_c]],['b'], 2)\n",
    "sol_dsh=np.zeros([np.size(g)],dtype=complex)"
   ]
  },
  {
   "cell_type": "code",
   "execution_count": 27,
   "metadata": {},
   "outputs": [],
   "source": [
    "data_csh=Data.Data([['AbC',1],['aBc',1],['A',1],['a',1],['B',0.1],['b',0.1]],\\\n",
    "               [['a',kappa_a],['b',kappa_b],['c',kappa_c]],['b','a'], 1)\n",
    "sol_csh=np.zeros([np.size(g)],dtype=complex)"
   ]
  },
  {
   "cell_type": "code",
   "execution_count": 28,
   "metadata": {},
   "outputs": [],
   "source": [
    "data_com=Data.Data([['AbC',1],['aBc',1],['A',Ea],['a',Ea],['B',0.1],['b',0.1]],\\\n",
    "                  [['a',kappa_a],['b',kappa_b],['c',kappa_c]],['b'], 4)\n",
    "sol_com=np.zeros([np.size(g)],dtype=complex)"
   ]
  },
  {
   "cell_type": "code",
   "execution_count": 29,
   "metadata": {},
   "outputs": [],
   "source": [
    "sol_indicator_csh=np.zeros([np.size(g)],dtype=complex)\n",
    "sol_indicator_dsh=np.zeros([np.size(g)],dtype=complex)"
   ]
  },
  {
   "cell_type": "code",
   "execution_count": 30,
   "metadata": {},
   "outputs": [
    {
     "name": "stdout",
     "output_type": "stream",
     "text": [
      "Time cost:667.0048177242279s\n"
     ]
    }
   ],
   "source": [
    "ts=time.time()\n",
    "for j in range(0,np.size(g)):\n",
    "    G=CalG(Ea,g[j],kappa_a)\n",
    "    G_c=np.conj(G).item()\n",
    "    data_csh.SetCoefHOList([g[j],g[j],Ea,Ea,Eb,Eb])\n",
    "    data_com.SetCoefHOList([g[j],g[j],Ea,Ea,Eb,Eb])\n",
    "    output_csh=Solver.Solve(data_csh,psi0_l,(0,tlist[-1]),t_eval=tlist,rtol=1e-10,atol=1e-12)\n",
    "    output_com=Solver.Solve(data_com,psi0_l,(0,tlist[-1]),t_eval=tlist,rtol=1e-10,atol=1e-12)\n",
    "    sol_dsh[j]=Cal_b(Eb,G)\n",
    "    sol_csh[j]=output_csh.y[0][-1]\n",
    "    sol_com[j]=output_com.y[0][-1]\n",
    "    sol_indicator_csh[j]=CalIndicator_b_c_S(output_csh.y[1][-1],g[j])\n",
    "    sol_indicator_dsh[j]=CalIndicator_b_AS(Eb,g[j],Ea)\n",
    "te=time.time()\n",
    "print('Time cost:'+str(te-ts)+'s')"
   ]
  },
  {
   "cell_type": "code",
   "execution_count": 31,
   "metadata": {},
   "outputs": [],
   "source": [
    "sol_re_csh=np.abs((sol_com-sol_csh)/sol_csh)\n",
    "sol_re_dsh=np.abs((sol_com-sol_dsh)/sol_dsh)"
   ]
  },
  {
   "cell_type": "code",
   "execution_count": 32,
   "metadata": {},
   "outputs": [],
   "source": [
    "RESID=np.abs(np.real(sol_indicator_csh)-sol_re_csh)"
   ]
  },
  {
   "cell_type": "code",
   "execution_count": 36,
   "metadata": {},
   "outputs": [
    {
     "data": {
      "image/png": "[encoded data removed]",
      "text/plain": [
       "<Figure size 216x216 with 1 Axes>"
      ]
     },
     "metadata": {
      "needs_background": "light"
     },
     "output_type": "display_data"
    }
   ],
   "source": [
    "fig, axes = plt.subplots(1,1 , figsize=(3,3))\n",
    "\n",
    "axes.set_xlabel(r'$g$');\n",
    "axes.scatter(g,sol_re_csh*1e2,c=cor1,s=64,marker = '*',label=r'$\\Delta\\langle b\\rangle_{\\mathrm{S}}^{\\mathrm{(QCE)}}$')\n",
    "axes.plot(g,np.real(sol_indicator_csh)*1e2,c=cor1,linestyle='-',label=r'$\\mathscr{I}\\,[b]_{2,\\mathrm{S}}$')\n",
    "axes.scatter(g,sol_re_dsh*1e2,c=cor2,s=64,marker = '+',label=r'$\\Delta\\langle b\\rangle_{\\mathrm{AS}}^{\\mathrm{(QCE)}}$')\n",
    "axes.plot(g,np.real(sol_indicator_dsh)*1e2,c=cor2,linestyle='-',label=r'$\\mathscr{I}\\,[b]_{2,\\mathrm{AS}}$')\n",
    "\n",
    "axes.scatter(0.4, 0.013705379134684151*100,c='green',s=128,marker = 'x',label=r'$\\Delta\\langle b\\rangle_{\\mathrm{S}}^{\\mathrm{(FST)}}$',zorder=3)\n",
    "axes.scatter(1, 0.006407918598775892*100,c='green',s=128,marker = 'x',zorder=3)\n",
    "\n",
    "axes.yaxis.set_ticks_position('right') \n",
    "axes.yaxis.set_label_position(\"right\")\n",
    "\n",
    "axes.legend(bbox_to_anchor=(0, 1.0),ncol=1,loc=0,frameon=True); \n",
    "\n",
    "axes.set_ylabel(r'Relative Error of $\\langle b\\rangle\\,(10^{-2})$')   "
   ]
  },
  {
   "cell_type": "markdown",
   "metadata": {},
   "source": [
    "## Singe Qutip Simulation For AS"
   ]
  },
  {
   "cell_type": "code",
   "execution_count": 37,
   "metadata": {},
   "outputs": [],
   "source": [
    "##parameters\n",
    "kappa_a=2\n",
    "kappa_b=2\n",
    "kappa_c=2\n",
    "psi0_l=[0,0,0]\n",
    "Ea=1;Eb=0.1; g=1"
   ]
  },
  {
   "cell_type": "code",
   "execution_count": 38,
   "metadata": {},
   "outputs": [],
   "source": [
    "tlist=np.linspace(0,20,2000)"
   ]
  },
  {
   "cell_type": "code",
   "execution_count": 39,
   "metadata": {},
   "outputs": [],
   "source": [
    "op=BuildOperator_Exact(Ea,Eb,g)"
   ]
  },
  {
   "cell_type": "code",
   "execution_count": 40,
   "metadata": {},
   "outputs": [
    {
     "name": "stdout",
     "output_type": "stream",
     "text": [
      "1669.8237221240997\n"
     ]
    }
   ],
   "source": [
    "ts=time.time()\n",
    "opts=Options()\n",
    "opts.atol=1e-12\n",
    "opts.rtol=1e-10\n",
    "output=mesolve(op['Hamilton'],op['Initial_state'],tlist,op['Collapse'],op['track'],options=opts)\n",
    "te=time.time()\n",
    "print(te-ts)"
   ]
  },
  {
   "cell_type": "code",
   "execution_count": 41,
   "metadata": {},
   "outputs": [
    {
     "name": "stdout",
     "output_type": "stream",
     "text": [
      "Error a=0.0014401181650716133\n"
     ]
    }
   ],
   "source": [
    "print('Error a='+str(np.abs((output.expect[2][-1]+2j*Ea/kappa_a)/(-2j*Ea/kappa_a))))"
   ]
  }
 ],
 "metadata": {
  "kernelspec": {
   "display_name": "Python 3",
   "language": "python",
   "name": "python3"
  },
  "language_info": {
   "codemirror_mode": {
    "name": "ipython",
    "version": 3
   },
   "file_extension": ".py",
   "mimetype": "text/x-python",
   "name": "python",
   "nbconvert_exporter": "python",
   "pygments_lexer": "ipython3",
   "version": "3.8.3"
  }
 },
 "nbformat": 4,
 "nbformat_minor": 4
}
