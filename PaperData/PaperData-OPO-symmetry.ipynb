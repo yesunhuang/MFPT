{
 "cells": [
  {
   "cell_type": "markdown",
   "metadata": {},
   "source": [
    "# OPO symmetry MFT"
   ]
  },
  {
   "cell_type": "markdown",
   "metadata": {},
   "source": [
    "## Initial Environment"
   ]
  },
  {
   "cell_type": "code",
   "execution_count": 1,
   "metadata": {},
   "outputs": [],
   "source": [
    "#import all the things we need\n",
    "%matplotlib inline\n",
    "from qutip import*\n",
    "\n",
    "from scipy import *\n",
    "\n",
    "import QCLSolver.data as Data\n",
    "import QCLSolver.solver as Solver\n",
    "\n",
    "import numpy as np\n",
    "\n",
    "import matplotlib.pyplot as plt\n",
    "\n",
    "import time"
   ]
  },
  {
   "cell_type": "code",
   "execution_count": 2,
   "metadata": {},
   "outputs": [],
   "source": [
    "#helper function\n",
    "def BuildOperator_Exact(Ea:float,Eb:float,g:float):\n",
    "    Na=10; Nc=10;Nb=10\n",
    "    psi0=tensor(basis(Na,psi0_l[0]),basis(Nb,psi0_l[1]),basis(Nc,psi0_l[2]))\n",
    "    a=tensor(destroy(Na),qeye(Nb),qeye(Nc))\n",
    "    b=tensor(qeye(Na),destroy(Nb),qeye(Nc))\n",
    "    c=tensor(qeye(Na),qeye(Nb),destroy(Nc))\n",
    "    H=g*(a.dag()*b*c.dag()+a*b.dag()*c)+Ea*(a.dag()+a)+Eb*(b.dag()+b)\n",
    "    c_ops=[]\n",
    "    c_ops.append(np.sqrt(kappa_a)*a)\n",
    "    c_ops.append(np.sqrt(kappa_b)*b)\n",
    "    c_ops.append(np.sqrt(kappa_c)*c)\n",
    "    operator={'Hamilton':H,'Collapse':c_ops,'Initial_state':psi0,'track':[b,c,a]}\n",
    "    return operator"
   ]
  },
  {
   "cell_type": "markdown",
   "metadata": {},
   "source": [
    "## Various Parameters $E_b$ Constant g"
   ]
  },
  {
   "cell_type": "code",
   "execution_count": 13,
   "metadata": {},
   "outputs": [],
   "source": [
    "##parameters\n",
    "kappa_a=2\n",
    "kappa_b=2\n",
    "psi0_l=[0,0]\n",
    "Eb=np.linspace(0.1,12,40); g=0.2\n",
    "tlist=np.linspace(0,20,2000)"
   ]
  },
  {
   "cell_type": "markdown",
   "metadata": {},
   "source": [
    "Approximate"
   ]
  },
  {
   "cell_type": "code",
   "execution_count": 14,
   "metadata": {},
   "outputs": [],
   "source": [
    "data_csh=Data.Data([['bAA',g],['Baa',g],['b',1],['B',1]],[['a',kappa_a],['b',kappa_b]],['b','Aa'], 2)\n",
    "sol_csh=np.zeros([np.size(Eb),2],dtype=complex)"
   ]
  },
  {
   "cell_type": "markdown",
   "metadata": {},
   "source": [
    "Complete"
   ]
  },
  {
   "cell_type": "code",
   "execution_count": 15,
   "metadata": {},
   "outputs": [],
   "source": [
    "data_com=Data.Data([['bAA',g],['Baa',g],['b',1],['B',1]],[['a',kappa_a],['b',kappa_b]],['Bb','Aa'], 4)\n",
    "sol_com=np.zeros([np.size(Eb),2],dtype=complex)"
   ]
  },
  {
   "cell_type": "code",
   "execution_count": 16,
   "metadata": {},
   "outputs": [
    {
     "name": "stdout",
     "output_type": "stream",
     "text": [
      "Time cost:174.81762313842773s\n"
     ]
    }
   ],
   "source": [
    "ts=time.time()\n",
    "for j in range(0,np.size(Eb)):\n",
    "        data_csh.SetCoefHOList([g,g,Eb[j],Eb[j]])\n",
    "        data_com.SetCoefHOList([g,g,Eb[j],Eb[j]])\n",
    "        output_csh=Solver.Solve(data_csh,[0,0],(0,tlist[-1]),t_eval=tlist,rtol=1e-10,atol=1e-12)\n",
    "        output_com=Solver.Solve(data_com,psi0_l,(0,tlist[-1]),t_eval=tlist,rtol=1e-10,atol=1e-12)\n",
    "        sol_csh[j][0]=output_csh.y[0][-1]*np.conj(output_csh.y[0][-1])\n",
    "        sol_csh[j][1]=output_csh.y[1][-1]\n",
    "        sol_com[j][0]=output_com.y[0][-1]\n",
    "        sol_com[j][1]=output_com.y[1][-1]\n",
    "te=time.time()\n",
    "print('Time cost:'+str(te-ts)+'s')"
   ]
  },
  {
   "cell_type": "code",
   "execution_count": 18,
   "metadata": {},
   "outputs": [
    {
     "data": {
      "image/png": "[encoded data removed]",
      "text/plain": [
       "<Figure size 576x216 with 2 Axes>"
      ]
     },
     "metadata": {
      "needs_background": "light"
     },
     "output_type": "display_data"
    }
   ],
   "source": [
    "fig, axes = plt.subplots(1,2, figsize=(8,3))\n",
    "\n",
    "#axes[2].set_ylim(0,0.05);#axes[1].set_xlim(Ea[0]*Ea[0],Ea[-1]*Ea[-1])\n",
    "axes[0].set_xlabel(r'$E_b$');axes[1].set_xlabel(r'$E_b$');\n",
    "axes[0].plot(Eb,np.real(sol_csh[...,0]),linestyle='-',label='MFT[S]')\n",
    "axes[1].plot(Eb,np.real(sol_csh[...,1]),linestyle='-',label='MFT[S]')\n",
    "axes[0].plot(Eb,np.real(sol_com[...,0]),linestyle='--',label='QCE')\n",
    "axes[1].plot(Eb,np.real(sol_com[...,1]),linestyle='--',label='QCE')\n",
    "\n",
    "#axes[0].yaxis.set_major_formatter(FormatStrFormatter('%.1f'))\n",
    "#axes[1].yaxis.set_major_formatter(FormatStrFormatter('%.1f'))\n",
    "\n",
    "\n",
    "axes[0].legend(loc=0,frameon=False)\n",
    "axes[1].legend(loc=0,frameon=False) \n",
    "\n",
    "\n",
    "axes[0].set_ylabel(r'$N_b$')\n",
    "axes[1].set_ylabel(r'$N_a$')  \n",
    "\n",
    "fig.savefig('imgsP/OPO_g_'+str(g)+'_Eb_'+str(Eb[0])+'-'+str(Eb[-1])+'.svg',dpi=600,format='svg',bbox_inches='tight')\n",
    "fig.savefig('imgsP/OPO_g_'+str(g)+'_Eb_'+str(Eb[0])+'-'+str(Eb[-1])+'.pdf',dpi=600,format='pdf',bbox_inches='tight')"
   ]
  }
 ],
 "metadata": {
  "kernelspec": {
   "display_name": "Python 3",
   "language": "python",
   "name": "python3"
  },
  "language_info": {
   "codemirror_mode": {
    "name": "ipython",
    "version": 3
   },
   "file_extension": ".py",
   "mimetype": "text/x-python",
   "name": "python",
   "nbconvert_exporter": "python",
   "pygments_lexer": "ipython3",
   "version": "3.8.3"
  }
 },
 "nbformat": 4,
 "nbformat_minor": 4
}
