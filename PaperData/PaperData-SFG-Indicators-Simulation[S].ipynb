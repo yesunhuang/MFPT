{
 "cells": [
  {
   "cell_type": "markdown",
   "metadata": {},
   "source": [
    "# Frequency Conversion-Indicators-Simulation[S]"
   ]
  },
  {
   "cell_type": "markdown",
   "metadata": {},
   "source": [
    "$$\n",
    "\\hat{H}=\\hbar\\left[g(\\hat{a}^\\dagger\\hat{b}\\hat{c}^\\dagger+\\hat{a}\\hat{b}^\\dagger\\hat{c})+E_a(\\hat{a}+\\hat{a}^\\dagger)+E_b(\\hat{b}+\\hat{b}^\\dagger)\\right]\n",
    "$$\n",
    "where the decay rate is $\\kappa_a,\\kappa_b,\\kappa_c$"
   ]
  },
  {
   "cell_type": "markdown",
   "metadata": {},
   "source": [
    "$$\n",
    "\\frac{d\\langle A_i\\rangle}{dt}=\\langle\\frac{i}{\\hbar}[H,A_i]\\rangle+\\Sigma_n\\langle\\frac{\\kappa_{n}}{2}[2O_n^{\\dagger}A_iO_n- O_n^{\\dagger}O_nA_i-A_iO_n^{\\dagger}O_n]\\rangle\n",
    "$$"
   ]
  },
  {
   "cell_type": "markdown",
   "metadata": {},
   "source": [
    "Ignoring the coupling for mode A, we get\n",
    "$$\n",
    "\\frac{d\\langle\\hat{a}\\rangle}{dt}=-iE_a-\\frac{\\kappa_a}{2}\\langle\\hat{a}\\rangle\n",
    "$$"
   ]
  },
  {
   "cell_type": "markdown",
   "metadata": {},
   "source": [
    "Thus $\\langle\\hat{a}\\rangle=-\\frac{2iE_a}{\\kappa_a}$"
   ]
  },
  {
   "cell_type": "markdown",
   "metadata": {},
   "source": [
    "Apply the approximation, we get\n",
    "$$\n",
    "\\hat{H}_{approx}=\\hat{H}=\\hbar\\left[G^*\\hat{b}\\hat{c}^\\dagger+G\\hat{b}^\\dagger\\hat{c}+E_b(\\hat{b}+\\hat{b}^\\dagger)\\right]\n",
    "$$\n",
    "where $G=-\\frac{2igE_a}{\\kappa_a}$"
   ]
  },
  {
   "cell_type": "markdown",
   "metadata": {},
   "source": [
    "## Initial Environment"
   ]
  },
  {
   "cell_type": "code",
   "execution_count": 2,
   "metadata": {},
   "outputs": [],
   "source": [
    "#import all the things we need\n",
    "%matplotlib inline\n",
    "from qutip import*\n",
    "\n",
    "from scipy import *\n",
    "\n",
    "import QCLSolver.data as Data\n",
    "import QCLSolver.solver as Solver\n",
    "\n",
    "import numpy as np\n",
    "\n",
    "import matplotlib.pyplot as plt\n",
    "\n",
    "import time"
   ]
  },
  {
   "cell_type": "code",
   "execution_count": 3,
   "metadata": {},
   "outputs": [],
   "source": [
    "#helper function\n",
    "def BuildOperator_Exact(Ea:float,Eb:float,g:float):\n",
    "    Na=40; Nc=4;Nb=6\n",
    "    psi0=tensor(basis(Na,psi0_l[0]),basis(Nb,psi0_l[1]),basis(Nc,psi0_l[2]))\n",
    "    a=tensor(destroy(Na),qeye(Nb),qeye(Nc))\n",
    "    b=tensor(qeye(Na),destroy(Nb),qeye(Nc))\n",
    "    c=tensor(qeye(Na),qeye(Nb),destroy(Nc))\n",
    "    H=g*(a.dag()*b*c.dag()+a*b.dag()*c)+Ea*(a.dag()+a)+Eb*(b.dag()+b)\n",
    "    c_ops=[]\n",
    "    c_ops.append(np.sqrt(kappa_a)*a)\n",
    "    c_ops.append(np.sqrt(kappa_b)*b)\n",
    "    c_ops.append(np.sqrt(kappa_c)*c)\n",
    "    operator={'Hamilton':H,'Collapse':c_ops,'Initial_state':psi0,'track':[b,c,a]}\n",
    "    return operator"
   ]
  },
  {
   "cell_type": "markdown",
   "metadata": {},
   "source": [
    "## Single Qutip Simulation For S"
   ]
  },
  {
   "cell_type": "code",
   "execution_count": 5,
   "metadata": {},
   "outputs": [],
   "source": [
    "##parameters\n",
    "kappa_a=2\n",
    "kappa_b=2\n",
    "kappa_c=2\n",
    "psi0_l=[0,0,0]\n",
    "Ea=4;Eb=0.1; g=1"
   ]
  },
  {
   "cell_type": "code",
   "execution_count": 6,
   "metadata": {},
   "outputs": [],
   "source": [
    "tlist=np.linspace(0,20,2000)"
   ]
  },
  {
   "cell_type": "markdown",
   "metadata": {},
   "source": [
    "### QuTip"
   ]
  },
  {
   "cell_type": "code",
   "execution_count": 7,
   "metadata": {},
   "outputs": [],
   "source": [
    "op=BuildOperator_Exact(Ea,Eb,g)"
   ]
  },
  {
   "cell_type": "code",
   "execution_count": 8,
   "metadata": {},
   "outputs": [
    {
     "name": "stdout",
     "output_type": "stream",
     "text": [
      "2299.8203814029694\n"
     ]
    }
   ],
   "source": [
    "ts=time.time()\n",
    "opts=Options()\n",
    "opts.atol=1e-12\n",
    "opts.rtol=1e-10\n",
    "output=mesolve(op['Hamilton'],op['Initial_state'],tlist,op['Collapse'],op['track'],options=opts)\n",
    "te=time.time()\n",
    "print(te-ts)"
   ]
  },
  {
   "cell_type": "markdown",
   "metadata": {},
   "source": [
    "### QCLS"
   ]
  },
  {
   "cell_type": "code",
   "execution_count": 9,
   "metadata": {},
   "outputs": [],
   "source": [
    "data_approx=Data.Data([['AbC',g],['aBc',g],['A',Ea],['a',Ea],['B',Eb],['b',Eb]],\\\n",
    "               [['a',kappa_a],['b',kappa_b],['c',kappa_c]],['b','c','a'], 1)"
   ]
  },
  {
   "cell_type": "code",
   "execution_count": 10,
   "metadata": {},
   "outputs": [],
   "source": [
    "sol_qcls_ap=Solver.Solve(data_approx,psi0_l,(0,tlist[-1]),t_eval=tlist,rtol=1e-10,atol=1e-12)"
   ]
  },
  {
   "cell_type": "code",
   "execution_count": 11,
   "metadata": {},
   "outputs": [
    {
     "data": {
      "image/png": "[encoded data removed]",
      "text/plain": [
       "<Figure size 216x504 with 3 Axes>"
      ]
     },
     "metadata": {
      "needs_background": "light"
     },
     "output_type": "display_data"
    }
   ],
   "source": [
    "fig, axes = plt.subplots(3,1,figsize=(3,7))\n",
    "\n",
    "axes[0].plot(tlist, np.real(output.expect[0]*np.conj(output.expect[0])),label=\"QME\")\n",
    "axes[1].plot(tlist, np.real(output.expect[1]*np.conj(output.expect[1])),label=\"QME\")\n",
    "axes[2].plot(tlist, np.real(output.expect[2]*np.conj(output.expect[2])),label=\"QME\")\n",
    "\n",
    "axes[0].plot(tlist, np.real(sol_qcls_ap.y[0]*np.conj(sol_qcls_ap.y[0])),linestyle='-.',color='green',label=\"QCE_EX\")\n",
    "axes[1].plot(tlist, np.real(sol_qcls_ap.y[1]*np.conj(sol_qcls_ap.y[1])),linestyle='-.',color='green',label=\"QCE_EX\")\n",
    "axes[2].plot(tlist, np.real(sol_qcls_ap.y[2]*np.conj(sol_qcls_ap.y[2])),linestyle='-.',color='green',label=\"QCE_EX\")\n",
    "\n",
    "axes[0].legend(loc=0,ncol=1,frameon=False)\n",
    "axes[1].legend(loc=0,ncol=1,frameon=False)\n",
    "\n",
    "axes[0].set_xlabel('Time/'+r'$\\kappa_a$')\n",
    "axes[0].set_ylabel(r'$N_b$')\n",
    "\n",
    "axes[1].set_xlabel('Time/'+r'$\\kappa_a$')\n",
    "axes[1].set_ylabel(r'$N_c$')\n",
    "\n",
    "axes[2].set_xlabel('Time/'+r'$\\kappa_a$')\n",
    "axes[2].set_ylabel(r'$N_a$')\n",
    "\n",
    "fig.savefig('imgs/dynamic_behaviour_Ea_'+str(Ea)+'_g_'+str(g)+'.svg',dpi=600,format='svg')"
   ]
  },
  {
   "cell_type": "code",
   "execution_count": 12,
   "metadata": {},
   "outputs": [
    {
     "name": "stdout",
     "output_type": "stream",
     "text": [
      "Error a=1.2374985097760113e-05\n",
      "Error b=0.006407918598775892\n",
      "Error c=0.006438824657860685\n"
     ]
    }
   ],
   "source": [
    "print('Error a='+str(np.abs((output.expect[2][-1]-sol_qcls_ap.y[2][-1])/sol_qcls_ap.y[2][-1])))\n",
    "print('Error b='+str(np.abs((output.expect[0][-1]-sol_qcls_ap.y[0][-1])/sol_qcls_ap.y[0][-1])))\n",
    "print('Error c='+str(np.abs((output.expect[1][-1]-sol_qcls_ap.y[1][-1])/sol_qcls_ap.y[1][-1])))"
   ]
  }
 ],
 "metadata": {
  "kernelspec": {
   "display_name": "Python 3",
   "language": "python",
   "name": "python3"
  },
  "language_info": {
   "codemirror_mode": {
    "name": "ipython",
    "version": 3
   },
   "file_extension": ".py",
   "mimetype": "text/x-python",
   "name": "python",
   "nbconvert_exporter": "python",
   "pygments_lexer": "ipython3",
   "version": "3.8.3"
  }
 },
 "nbformat": 4,
 "nbformat_minor": 4
}
